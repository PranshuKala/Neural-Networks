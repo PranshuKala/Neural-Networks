{
  "cells": [
    {
      "cell_type": "code",
      "execution_count": null,
      "metadata": {
        "id": "RrBbiWWmY5X8"
      },
      "outputs": [],
      "source": [
        "import numpy as np\n",
        "import pandas as pd "
      ]
    },
    {
      "cell_type": "code",
      "execution_count": null,
      "metadata": {
        "colab": {
          "base_uri": "https://localhost:8080/",
          "height": 423
        },
        "id": "m5FZWZvEZ9O_",
        "outputId": "6c33dbc7-b29b-448b-f15d-77faebfa45ca"
      },
      "outputs": [],
      "source": [
        "df=pd.read_csv('train_cleaned - train_cleaned.csv')\n",
        "df1=pd.read_csv('test_cleaned - test_cleaned.csv')\n",
        "df\n"
      ]
    },
    {
      "cell_type": "code",
      "execution_count": null,
      "metadata": {
        "id": "oJj5630NaJ0c"
      },
      "outputs": [],
      "source": [
        "X_train=df.loc[:10000,'text']\n",
        "X_test=df1['text']"
      ]
    },
    {
      "cell_type": "code",
      "execution_count": null,
      "metadata": {
        "id": "tF3E_SydbPsr"
      },
      "outputs": [],
      "source": [
        "from sklearn.preprocessing import LabelEncoder\n",
        "le=LabelEncoder()\n",
        "Y_train=le.fit_transform(df.loc[:10000,'sentiment'])\n",
        "Y_test=le.transform(df1['sentiment'])"
      ]
    },
    {
      "cell_type": "code",
      "execution_count": null,
      "metadata": {
        "id": "7_Jvwj9Db_dZ"
      },
      "outputs": [],
      "source": [
        "from sklearn.feature_extraction.text import TfidfVectorizer\n",
        "tf=TfidfVectorizer(lowercase=True,stop_words='english')\n",
        "X_train1=tf.fit_transform(X_train)\n",
        "X_test1=tf.transform(X_test)"
      ]
    },
    {
      "cell_type": "code",
      "execution_count": null,
      "metadata": {
        "colab": {
          "base_uri": "https://localhost:8080/"
        },
        "id": "mznXbQXVdKGD",
        "outputId": "1bde333b-1743-42d8-81ae-2cf1595256f1"
      },
      "outputs": [],
      "source": [
        "X_train1"
      ]
    },
    {
      "cell_type": "code",
      "execution_count": null,
      "metadata": {
        "id": "eIQQdjnodMjb"
      },
      "outputs": [],
      "source": [
        "X_train1=pd.DataFrame(X_train1.toarray())\n",
        "X_test1=pd.DataFrame(X_test1.toarray())"
      ]
    },
    {
      "cell_type": "code",
      "execution_count": null,
      "metadata": {
        "colab": {
          "base_uri": "https://localhost:8080/",
          "height": 423
        },
        "id": "pQUdTIzQdiKy",
        "outputId": "03608b7c-8391-4a8d-b261-6e996dcee241"
      },
      "outputs": [],
      "source": [
        "X_train1"
      ]
    },
    {
      "cell_type": "code",
      "execution_count": null,
      "metadata": {
        "id": "7bGGPyPLdlUW"
      },
      "outputs": [],
      "source": [
        "def sigmoid(z):\n",
        "  return (1/(1+np.exp(-z)))"
      ]
    },
    {
      "cell_type": "code",
      "execution_count": null,
      "metadata": {
        "id": "rJmML8mnejSe"
      },
      "outputs": [],
      "source": [
        "def training_phase(X,Y,lr,itr):\n",
        "    n=len(X)\n",
        "    X=X.T\n",
        "\n",
        "    #Initialize weights\n",
        "    W=np.random.randint(-10,10,size=(X.shape[0],1))*0.001\n",
        "    b=0\n",
        "\n",
        "    for i in range(itr):\n",
        "      #Forward Propagation\n",
        "      A=sigmoid(np.dot(W.T,X)+b)\n",
        "      cost=(-1/n)*np.sum((Y*np.log(A))+((1-Y)*np.log(1-A)))\n",
        "\n",
        "      if i%1000 ==0 :\n",
        "          print('itr:'+str(i)+','+'cost:'+str(cost))\n",
        "\n",
        "      #Backward Propagation\n",
        "      dW=(1/n)*np.dot(X,(A-Y).T)\n",
        "      db=(1/n)*np.sum(A-Y)\n",
        "      W=W-lr*dW\n",
        "      b=b-lr*db\n",
        "\n",
        "\n",
        "    return W,b\n"
      ]
    },
    {
      "cell_type": "code",
      "execution_count": 13,
      "metadata": {
        "colab": {
          "base_uri": "https://localhost:8080/",
          "height": 286
        },
        "id": "g6k8jMUnjbBl",
        "outputId": "7fa67bb1-e3de-414a-a097-39ddd59e6a3a"
      },
      "outputs": [
        {
          "name": "stdout",
          "output_type": "stream",
          "text": [
            "itr:7000,cost:0.3132977742360454\n",
            "itr:8000,cost:0.301388501947325\n",
            "itr:9000,cost:0.29099747207346066\n",
            "itr:10000,cost:0.281786393283789\n",
            "itr:11000,cost:0.27351783282972897\n",
            "itr:12000,cost:0.26601912493794955\n",
            "itr:13000,cost:0.2591609805607287\n",
            "itr:14000,cost:0.2528441900584756\n",
            "itr:15000,cost:0.24699102239325643\n"
          ]
        },
        {
          "ename": "KeyboardInterrupt",
          "evalue": "",
          "output_type": "error",
          "traceback": [
            "\u001b[1;31m---------------------------------------------------------------------------\u001b[0m",
            "\u001b[1;31mKeyboardInterrupt\u001b[0m                         Traceback (most recent call last)",
            "Cell \u001b[1;32mIn[13], line 6\u001b[0m\n\u001b[0;32m      1\u001b[0m \u001b[38;5;66;03m#W,b=training_phase(X_train1,Y_train,0.1,100)\u001b[39;00m\n\u001b[1;32m----> 6\u001b[0m W,b\u001b[38;5;241m=\u001b[39m\u001b[43mtraining_phase\u001b[49m\u001b[43m(\u001b[49m\u001b[43mX_train1\u001b[49m\u001b[43m,\u001b[49m\u001b[43mY_train\u001b[49m\u001b[43m,\u001b[49m\u001b[38;5;241;43m0.9\u001b[39;49m\u001b[43m,\u001b[49m\u001b[38;5;241;43m50000\u001b[39;49m\u001b[43m)\u001b[49m\n",
            "Cell \u001b[1;32mIn[11], line 11\u001b[0m, in \u001b[0;36mtraining_phase\u001b[1;34m(X, Y, lr, itr)\u001b[0m\n\u001b[0;32m      7\u001b[0m b\u001b[38;5;241m=\u001b[39m\u001b[38;5;241m0\u001b[39m\n\u001b[0;32m      9\u001b[0m \u001b[38;5;28;01mfor\u001b[39;00m i \u001b[38;5;129;01min\u001b[39;00m \u001b[38;5;28mrange\u001b[39m(itr):\n\u001b[0;32m     10\u001b[0m   \u001b[38;5;66;03m#Forward Propagation\u001b[39;00m\n\u001b[1;32m---> 11\u001b[0m   A\u001b[38;5;241m=\u001b[39msigmoid(\u001b[43mnp\u001b[49m\u001b[38;5;241;43m.\u001b[39;49m\u001b[43mdot\u001b[49m\u001b[43m(\u001b[49m\u001b[43mW\u001b[49m\u001b[38;5;241;43m.\u001b[39;49m\u001b[43mT\u001b[49m\u001b[43m,\u001b[49m\u001b[43mX\u001b[49m\u001b[43m)\u001b[49m\u001b[38;5;241m+\u001b[39mb)\n\u001b[0;32m     12\u001b[0m   cost\u001b[38;5;241m=\u001b[39m(\u001b[38;5;241m-\u001b[39m\u001b[38;5;241m1\u001b[39m\u001b[38;5;241m/\u001b[39mn)\u001b[38;5;241m*\u001b[39mnp\u001b[38;5;241m.\u001b[39msum((Y\u001b[38;5;241m*\u001b[39mnp\u001b[38;5;241m.\u001b[39mlog(A))\u001b[38;5;241m+\u001b[39m((\u001b[38;5;241m1\u001b[39m\u001b[38;5;241m-\u001b[39mY)\u001b[38;5;241m*\u001b[39mnp\u001b[38;5;241m.\u001b[39mlog(\u001b[38;5;241m1\u001b[39m\u001b[38;5;241m-\u001b[39mA)))\n\u001b[0;32m     14\u001b[0m   \u001b[38;5;28;01mif\u001b[39;00m i\u001b[38;5;241m%\u001b[39m\u001b[38;5;241m1000\u001b[39m \u001b[38;5;241m==\u001b[39m\u001b[38;5;241m0\u001b[39m :\n",
            "\u001b[1;31mKeyboardInterrupt\u001b[0m: "
          ]
        }
      ],
      "source": [
        "#W,b=training_phase(X_train1,Y_train,0.1,100)\n",
        "\n",
        "\n",
        "W,b=train2ing_phase(X_train1,Y_train,0.9,50000)"
      ]
    },
    {
      "cell_type": "code",
      "execution_count": 14,
      "metadata": {
        "id": "xvfm1_seknWM"
      },
      "outputs": [],
      "source": [
        "def testing_phase(W,b,X):\n",
        "  X=X.T\n",
        "  A=sigmoid(np.dot(W.T,X)+b)\n",
        "  Y_predicted=[]\n",
        "  for i in range(A.shape[1]):\n",
        "    if(A[0,i]>=0.5):\n",
        "      Y_predicted.append(1)\n",
        "    else:\n",
        "      Y_predicted.append(0)\n",
        "\n",
        "  return Y_predicted\n"
      ]
    },
    {
      "cell_type": "code",
      "execution_count": 15,
      "metadata": {
        "id": "h5Zd7zu6lX30"
      },
      "outputs": [
        {
          "ename": "NameError",
          "evalue": "name 'W' is not defined",
          "output_type": "error",
          "traceback": [
            "\u001b[1;31m---------------------------------------------------------------------------\u001b[0m",
            "\u001b[1;31mNameError\u001b[0m                                 Traceback (most recent call last)",
            "Cell \u001b[1;32mIn[15], line 1\u001b[0m\n\u001b[1;32m----> 1\u001b[0m Y_predicted\u001b[38;5;241m=\u001b[39mtesting_phase(\u001b[43mW\u001b[49m,b,X_test1)\n",
            "\u001b[1;31mNameError\u001b[0m: name 'W' is not defined"
          ]
        }
      ],
      "source": [
        "Y_predicted=testing_phase(W,b,X_test1)"
      ]
    },
    {
      "cell_type": "code",
      "execution_count": null,
      "metadata": {
        "colab": {
          "base_uri": "https://localhost:8080/"
        },
        "id": "tlqzJVGjlhjj",
        "outputId": "ece8b5f4-25fb-45b8-ce88-3816cf92bc6f"
      },
      "outputs": [],
      "source": [
        "from sklearn.metrics import accuracy_score\n",
        "accuracy_score(Y_test,Y_predicted)"
      ]
    }
  ],
  "metadata": {
    "colab": {
      "provenance": []
    },
    "kernelspec": {
      "display_name": "Python 3",
      "name": "python3"
    },
    "language_info": {
      "name": "python",
      "version": "3.12.2"
    }
  },
  "nbformat": 4,
  "nbformat_minor": 0
}
